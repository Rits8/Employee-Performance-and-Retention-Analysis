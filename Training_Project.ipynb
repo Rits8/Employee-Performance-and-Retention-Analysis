{
 "cells": [
  {
   "cell_type": "markdown",
   "metadata": {},
   "source": [
    "# Final Project: Business Analytics"
   ]
  },
  {
   "cell_type": "markdown",
   "metadata": {},
   "source": [
    "# Project A: Employee Performance and Retention Analysis"
   ]
  },
  {
   "cell_type": "markdown",
   "metadata": {},
   "source": [
    "Problem Statement\n",
    "The objective of this project is to analyse HR data to assess employee performance, identify\n",
    "trends influencing retention, and provide recommendations for improving employee\n",
    "productivity and reducing turnover. Specifically, the project aims to:\n",
    "\n",
    "● Identify performance patterns based on factors such as age, education, department,\n",
    "and training.\n",
    "\n",
    "● Examine retention trends based on employee characteristics such as tenure,\n",
    "performance ratings, and awards.\n",
    "\n",
    "● Provide recommendations for improving employee engagement and retention\n",
    "strategies by analysing the relationship between key employee metrics."
   ]
  },
  {
   "cell_type": "code",
   "execution_count": 1,
   "metadata": {},
   "outputs": [
    {
     "name": "stdout",
     "output_type": "stream",
     "text": [
      "Requirement already up-to-date: pandas in c:\\users\\intel\\anaconda3\\lib\\site-packages (2.0.3)\n",
      "Requirement already up-to-date: numpy in c:\\users\\intel\\anaconda3\\lib\\site-packages (1.24.4)\n",
      "Requirement already up-to-date: scipy in c:\\users\\intel\\anaconda3\\lib\\site-packages (1.10.1)\n",
      "Requirement already up-to-date: seaborn in c:\\users\\intel\\anaconda3\\lib\\site-packages (0.13.2)\n",
      "Requirement already up-to-date: numexpr in c:\\users\\intel\\anaconda3\\lib\\site-packages (2.8.6)\n",
      "Requirement already satisfied, skipping upgrade: tzdata>=2022.1 in c:\\users\\intel\\anaconda3\\lib\\site-packages (from pandas) (2025.2)\n",
      "Requirement already satisfied, skipping upgrade: python-dateutil>=2.8.2 in c:\\users\\intel\\anaconda3\\lib\\site-packages (from pandas) (2.9.0.post0)\n",
      "Requirement already satisfied, skipping upgrade: pytz>=2020.1 in c:\\users\\intel\\anaconda3\\lib\\site-packages (from pandas) (2020.1)\n",
      "Requirement already satisfied, skipping upgrade: matplotlib!=3.6.1,>=3.4 in c:\\users\\intel\\anaconda3\\lib\\site-packages (from seaborn) (3.7.5)\n",
      "Requirement already satisfied, skipping upgrade: six>=1.5 in c:\\users\\intel\\anaconda3\\lib\\site-packages (from python-dateutil>=2.8.2->pandas) (1.15.0)\n",
      "Requirement already satisfied, skipping upgrade: cycler>=0.10 in c:\\users\\intel\\anaconda3\\lib\\site-packages (from matplotlib!=3.6.1,>=3.4->seaborn) (0.10.0)\n",
      "Requirement already satisfied, skipping upgrade: importlib-resources>=3.2.0; python_version < \"3.10\" in c:\\users\\intel\\anaconda3\\lib\\site-packages (from matplotlib!=3.6.1,>=3.4->seaborn) (6.4.5)\n",
      "Requirement already satisfied, skipping upgrade: fonttools>=4.22.0 in c:\\users\\intel\\anaconda3\\lib\\site-packages (from matplotlib!=3.6.1,>=3.4->seaborn) (4.57.0)\n",
      "Requirement already satisfied, skipping upgrade: packaging>=20.0 in c:\\users\\intel\\anaconda3\\lib\\site-packages (from matplotlib!=3.6.1,>=3.4->seaborn) (20.4)\n",
      "Requirement already satisfied, skipping upgrade: pillow>=6.2.0 in c:\\users\\intel\\anaconda3\\lib\\site-packages (from matplotlib!=3.6.1,>=3.4->seaborn) (7.2.0)\n",
      "Requirement already satisfied, skipping upgrade: contourpy>=1.0.1 in c:\\users\\intel\\anaconda3\\lib\\site-packages (from matplotlib!=3.6.1,>=3.4->seaborn) (1.1.1)\n",
      "Requirement already satisfied, skipping upgrade: pyparsing>=2.3.1 in c:\\users\\intel\\anaconda3\\lib\\site-packages (from matplotlib!=3.6.1,>=3.4->seaborn) (2.4.7)\n",
      "Requirement already satisfied, skipping upgrade: kiwisolver>=1.0.1 in c:\\users\\intel\\anaconda3\\lib\\site-packages (from matplotlib!=3.6.1,>=3.4->seaborn) (1.2.0)\n",
      "Requirement already satisfied, skipping upgrade: zipp>=3.1.0; python_version < \"3.10\" in c:\\users\\intel\\anaconda3\\lib\\site-packages (from importlib-resources>=3.2.0; python_version < \"3.10\"->matplotlib!=3.6.1,>=3.4->seaborn) (3.1.0)\n",
      "Requirement already up-to-date: scikit-learn in c:\\users\\intel\\anaconda3\\lib\\site-packages (1.3.2)\n",
      "Requirement already satisfied, skipping upgrade: joblib>=1.1.1 in c:\\users\\intel\\anaconda3\\lib\\site-packages (from scikit-learn) (1.4.2)\n",
      "Requirement already satisfied, skipping upgrade: numpy<2.0,>=1.17.3 in c:\\users\\intel\\anaconda3\\lib\\site-packages (from scikit-learn) (1.24.4)\n",
      "Requirement already satisfied, skipping upgrade: scipy>=1.5.0 in c:\\users\\intel\\anaconda3\\lib\\site-packages (from scikit-learn) (1.10.1)\n",
      "Requirement already satisfied, skipping upgrade: threadpoolctl>=2.0.0 in c:\\users\\intel\\anaconda3\\lib\\site-packages (from scikit-learn) (2.1.0)\n"
     ]
    }
   ],
   "source": [
    "!pip install --upgrade pandas numpy scipy seaborn numexpr\n",
    "!pip install --upgrade scikit-learn\n"
   ]
  },
  {
   "cell_type": "code",
   "execution_count": 2,
   "metadata": {},
   "outputs": [],
   "source": [
    "#importing all libraries\n",
    "import pandas as pd\n",
    "import numpy as np\n",
    "import matplotlib.pyplot as plt\n",
    "import seaborn as sns\n",
    "from sklearn.model_selection import train_test_split\n",
    "from sklearn.preprocessing import StandardScaler\n",
    "from sklearn.linear_model import LogisticRegression\n",
    "from sklearn.metrics import roc_auc_score, classification_report"
   ]
  },
  {
   "cell_type": "markdown",
   "metadata": {},
   "source": [
    "# 1. Data Exploration: \n"
   ]
  },
  {
   "cell_type": "markdown",
   "metadata": {},
   "source": [
    "Start with an overview of the dataset, checking for missing values,\n",
    "duplicates, and any anomalies."
   ]
  },
  {
   "cell_type": "code",
   "execution_count": 3,
   "metadata": {},
   "outputs": [],
   "source": [
    "df=pd.read_csv(\"employees_dataset.csv\")"
   ]
  },
  {
   "cell_type": "code",
   "execution_count": 4,
   "metadata": {},
   "outputs": [
    {
     "name": "stdout",
     "output_type": "stream",
     "text": [
      "Dataset shape: (17417, 13)\n"
     ]
    }
   ],
   "source": [
    "#Check the shape(rows,columns)\n",
    "print(\"Dataset shape:\",df.shape)"
   ]
  },
  {
   "cell_type": "code",
   "execution_count": 5,
   "metadata": {},
   "outputs": [
    {
     "data": {
      "text/html": [
       "<div>\n",
       "<style scoped>\n",
       "    .dataframe tbody tr th:only-of-type {\n",
       "        vertical-align: middle;\n",
       "    }\n",
       "\n",
       "    .dataframe tbody tr th {\n",
       "        vertical-align: top;\n",
       "    }\n",
       "\n",
       "    .dataframe thead th {\n",
       "        text-align: right;\n",
       "    }\n",
       "</style>\n",
       "<table border=\"1\" class=\"dataframe\">\n",
       "  <thead>\n",
       "    <tr style=\"text-align: right;\">\n",
       "      <th></th>\n",
       "      <th>employee_id</th>\n",
       "      <th>department</th>\n",
       "      <th>region</th>\n",
       "      <th>education</th>\n",
       "      <th>gender</th>\n",
       "      <th>recruitment_channel</th>\n",
       "      <th>no_of_trainings</th>\n",
       "      <th>age</th>\n",
       "      <th>previous_year_rating</th>\n",
       "      <th>length_of_service</th>\n",
       "      <th>KPIs_met_more_than_80</th>\n",
       "      <th>awards_won</th>\n",
       "      <th>avg_training_score</th>\n",
       "    </tr>\n",
       "  </thead>\n",
       "  <tbody>\n",
       "    <tr>\n",
       "      <th>0</th>\n",
       "      <td>8724</td>\n",
       "      <td>Technology</td>\n",
       "      <td>region_26</td>\n",
       "      <td>Bachelors</td>\n",
       "      <td>m</td>\n",
       "      <td>sourcing</td>\n",
       "      <td>1</td>\n",
       "      <td>24</td>\n",
       "      <td>NaN</td>\n",
       "      <td>1</td>\n",
       "      <td>1</td>\n",
       "      <td>0</td>\n",
       "      <td>77</td>\n",
       "    </tr>\n",
       "    <tr>\n",
       "      <th>1</th>\n",
       "      <td>74430</td>\n",
       "      <td>HR</td>\n",
       "      <td>region_4</td>\n",
       "      <td>Bachelors</td>\n",
       "      <td>f</td>\n",
       "      <td>other</td>\n",
       "      <td>1</td>\n",
       "      <td>31</td>\n",
       "      <td>3.0</td>\n",
       "      <td>5</td>\n",
       "      <td>0</td>\n",
       "      <td>0</td>\n",
       "      <td>51</td>\n",
       "    </tr>\n",
       "    <tr>\n",
       "      <th>2</th>\n",
       "      <td>72255</td>\n",
       "      <td>Sales &amp; Marketing</td>\n",
       "      <td>region_13</td>\n",
       "      <td>Bachelors</td>\n",
       "      <td>m</td>\n",
       "      <td>other</td>\n",
       "      <td>1</td>\n",
       "      <td>31</td>\n",
       "      <td>1.0</td>\n",
       "      <td>4</td>\n",
       "      <td>0</td>\n",
       "      <td>0</td>\n",
       "      <td>47</td>\n",
       "    </tr>\n",
       "    <tr>\n",
       "      <th>3</th>\n",
       "      <td>38562</td>\n",
       "      <td>Procurement</td>\n",
       "      <td>region_2</td>\n",
       "      <td>Bachelors</td>\n",
       "      <td>f</td>\n",
       "      <td>other</td>\n",
       "      <td>3</td>\n",
       "      <td>31</td>\n",
       "      <td>2.0</td>\n",
       "      <td>9</td>\n",
       "      <td>0</td>\n",
       "      <td>0</td>\n",
       "      <td>65</td>\n",
       "    </tr>\n",
       "    <tr>\n",
       "      <th>4</th>\n",
       "      <td>64486</td>\n",
       "      <td>Finance</td>\n",
       "      <td>region_29</td>\n",
       "      <td>Bachelors</td>\n",
       "      <td>m</td>\n",
       "      <td>sourcing</td>\n",
       "      <td>1</td>\n",
       "      <td>30</td>\n",
       "      <td>4.0</td>\n",
       "      <td>7</td>\n",
       "      <td>0</td>\n",
       "      <td>0</td>\n",
       "      <td>61</td>\n",
       "    </tr>\n",
       "  </tbody>\n",
       "</table>\n",
       "</div>"
      ],
      "text/plain": [
       "   employee_id         department     region  education gender  \\\n",
       "0         8724         Technology  region_26  Bachelors      m   \n",
       "1        74430                 HR   region_4  Bachelors      f   \n",
       "2        72255  Sales & Marketing  region_13  Bachelors      m   \n",
       "3        38562        Procurement   region_2  Bachelors      f   \n",
       "4        64486            Finance  region_29  Bachelors      m   \n",
       "\n",
       "  recruitment_channel  no_of_trainings  age  previous_year_rating  \\\n",
       "0            sourcing                1   24                   NaN   \n",
       "1               other                1   31                   3.0   \n",
       "2               other                1   31                   1.0   \n",
       "3               other                3   31                   2.0   \n",
       "4            sourcing                1   30                   4.0   \n",
       "\n",
       "   length_of_service  KPIs_met_more_than_80  awards_won  avg_training_score  \n",
       "0                  1                      1           0                  77  \n",
       "1                  5                      0           0                  51  \n",
       "2                  4                      0           0                  47  \n",
       "3                  9                      0           0                  65  \n",
       "4                  7                      0           0                  61  "
      ]
     },
     "execution_count": 5,
     "metadata": {},
     "output_type": "execute_result"
    }
   ],
   "source": [
    "#Show first 5 rows\n",
    "df.head()"
   ]
  },
  {
   "cell_type": "code",
   "execution_count": 6,
   "metadata": {},
   "outputs": [
    {
     "name": "stdout",
     "output_type": "stream",
     "text": [
      "<class 'pandas.core.frame.DataFrame'>\n",
      "RangeIndex: 17417 entries, 0 to 17416\n",
      "Data columns (total 13 columns):\n",
      " #   Column                 Non-Null Count  Dtype  \n",
      "---  ------                 --------------  -----  \n",
      " 0   employee_id            17417 non-null  int64  \n",
      " 1   department             17417 non-null  object \n",
      " 2   region                 17417 non-null  object \n",
      " 3   education              16646 non-null  object \n",
      " 4   gender                 17417 non-null  object \n",
      " 5   recruitment_channel    17417 non-null  object \n",
      " 6   no_of_trainings        17417 non-null  int64  \n",
      " 7   age                    17417 non-null  int64  \n",
      " 8   previous_year_rating   16054 non-null  float64\n",
      " 9   length_of_service      17417 non-null  int64  \n",
      " 10  KPIs_met_more_than_80  17417 non-null  int64  \n",
      " 11  awards_won             17417 non-null  int64  \n",
      " 12  avg_training_score     17417 non-null  int64  \n",
      "dtypes: float64(1), int64(7), object(5)\n",
      "memory usage: 1.7+ MB\n"
     ]
    }
   ],
   "source": [
    "#Basic info about columns\n",
    "df.info()"
   ]
  },
  {
   "cell_type": "code",
   "execution_count": 7,
   "metadata": {},
   "outputs": [
    {
     "name": "stdout",
     "output_type": "stream",
     "text": [
      "\n",
      "Missing values in each column\n",
      "employee_id                 0\n",
      "department                  0\n",
      "region                      0\n",
      "education                 771\n",
      "gender                      0\n",
      "recruitment_channel         0\n",
      "no_of_trainings             0\n",
      "age                         0\n",
      "previous_year_rating     1363\n",
      "length_of_service           0\n",
      "KPIs_met_more_than_80       0\n",
      "awards_won                  0\n",
      "avg_training_score          0\n",
      "dtype: int64\n"
     ]
    }
   ],
   "source": [
    "#Check for the missing values\n",
    "print(\"\\nMissing values in each column\")\n",
    "print(df.isnull().sum())"
   ]
  },
  {
   "cell_type": "code",
   "execution_count": 8,
   "metadata": {},
   "outputs": [
    {
     "name": "stdout",
     "output_type": "stream",
     "text": [
      "\n",
      "Number of duplicate rows 2\n"
     ]
    }
   ],
   "source": [
    "#Check for duplicate rows\n",
    "print(\"\\nNumber of duplicate rows\", df.duplicated().sum())"
   ]
  },
  {
   "cell_type": "code",
   "execution_count": 9,
   "metadata": {},
   "outputs": [
    {
     "name": "stdout",
     "output_type": "stream",
     "text": [
      "\n",
      " Descriptive statistics (numeric):\n",
      "        employee_id  no_of_trainings           age  previous_year_rating  \\\n",
      "count  17417.000000     17417.000000  17417.000000          16054.000000   \n",
      "mean   39083.491129         1.250732     34.807774              3.345459   \n",
      "std    22707.024087         0.595692      7.694046              1.265386   \n",
      "min        3.000000         1.000000     20.000000              1.000000   \n",
      "25%    19281.000000         1.000000     29.000000              3.000000   \n",
      "50%    39122.000000         1.000000     33.000000              3.000000   \n",
      "75%    58838.000000         1.000000     39.000000              4.000000   \n",
      "max    78295.000000         9.000000     60.000000              5.000000   \n",
      "\n",
      "       length_of_service  KPIs_met_more_than_80    awards_won  \\\n",
      "count       17417.000000           17417.000000  17417.000000   \n",
      "mean            5.801860               0.358845      0.023368   \n",
      "std             4.175533               0.479675      0.151074   \n",
      "min             1.000000               0.000000      0.000000   \n",
      "25%             3.000000               0.000000      0.000000   \n",
      "50%             5.000000               0.000000      0.000000   \n",
      "75%             7.000000               1.000000      0.000000   \n",
      "max            34.000000               1.000000      1.000000   \n",
      "\n",
      "       avg_training_score  \n",
      "count        17417.000000  \n",
      "mean            63.176322  \n",
      "std             13.418179  \n",
      "min             39.000000  \n",
      "25%             51.000000  \n",
      "50%             60.000000  \n",
      "75%             75.000000  \n",
      "max             99.000000  \n"
     ]
    }
   ],
   "source": [
    "#Quick discriptive statistics for numeric columns\n",
    "print(\"\\n Descriptive statistics (numeric):\")\n",
    "print(df.describe())"
   ]
  },
  {
   "cell_type": "code",
   "execution_count": 10,
   "metadata": {},
   "outputs": [
    {
     "name": "stdout",
     "output_type": "stream",
     "text": [
      "\n",
      " Unusual ages found:\n",
      "Empty DataFrame\n",
      "Columns: [employee_id, age]\n",
      "Index: []\n"
     ]
    }
   ],
   "source": [
    "#Check for anomalies in key columns\n",
    "#Age should not be negative or unrealistically high\n",
    "if 'age' in df.columns:\n",
    "    print(\"\\n Unusual ages found:\")\n",
    "    print(df[(df[\"age\"]<18) | (df[\"age\"] > 65)][[\"employee_id\" , \"age\"]])"
   ]
  },
  {
   "cell_type": "code",
   "execution_count": 11,
   "metadata": {},
   "outputs": [
    {
     "name": "stdout",
     "output_type": "stream",
     "text": [
      "\n",
      "Unsual length_of_service found:\n",
      "Empty DataFrame\n",
      "Columns: [employee_id, length_of_service]\n",
      "Index: []\n",
      "Empty DataFrame\n",
      "Columns: [employee_id, length_of_service]\n",
      "Index: []\n"
     ]
    }
   ],
   "source": [
    "# Length of service should not be negative or extremely large\n",
    "if \"length_of_service\" in df.columns:\n",
    "    print(\"\\nUnsual length_of_service found:\")\n",
    "    print(df[df[\"length_of_service\"]<0][[\"employee_id\",\"length_of_service\"]])\n",
    "    print(df[df[\"length_of_service\"]>40][[\"employee_id\",\"length_of_service\"]])"
   ]
  },
  {
   "cell_type": "code",
   "execution_count": 12,
   "metadata": {},
   "outputs": [
    {
     "name": "stdout",
     "output_type": "stream",
     "text": [
      "\n",
      "Unusual training score found:\n",
      "Empty DataFrame\n",
      "Columns: [employee_id, avg_training_score]\n",
      "Index: []\n"
     ]
    }
   ],
   "source": [
    "# Training scores should be within 0–100 (if out of 100)\n",
    "if \"avg_training_score\" in df.columns:\n",
    "    print(\"\\nUnusual training score found:\")\n",
    "    print(df[(df[\"avg_training_score\"]<0) | (df[\"avg_training_score\"] > 100)][[\"employee_id\",\"avg_training_score\"]])"
   ]
  },
  {
   "cell_type": "markdown",
   "metadata": {},
   "source": [
    "Anomaly Check: No unrealistic values were found in age, length of service, or training scores. The dataset appears consistent and reliable for further analysis."
   ]
  },
  {
   "cell_type": "code",
   "execution_count": 13,
   "metadata": {},
   "outputs": [
    {
     "name": "stdout",
     "output_type": "stream",
     "text": [
      "\n",
      "Value Count for department:\n",
      "department\n",
      "Sales & Marketing    5458\n",
      "Operations           3524\n",
      "Procurement          2240\n",
      "Technology           2199\n",
      "Analytics            1697\n",
      "HR                    833\n",
      "Finance               802\n",
      "Legal                 332\n",
      "R&D                   332\n",
      "Name: count, dtype: int64\n",
      "\n",
      "Value Count for region:\n",
      "region\n",
      "region_2     3918\n",
      "region_22    1990\n",
      "region_7     1488\n",
      "region_13     860\n",
      "region_15     843\n",
      "region_26     748\n",
      "region_31     646\n",
      "region_4      571\n",
      "region_27     516\n",
      "region_16     452\n",
      "region_28     430\n",
      "region_11     420\n",
      "region_23     376\n",
      "region_32     318\n",
      "region_19     315\n",
      "region_29     308\n",
      "region_17     268\n",
      "region_14     265\n",
      "region_5      252\n",
      "region_25     248\n",
      "region_20     242\n",
      "region_6      220\n",
      "region_8      209\n",
      "region_30     209\n",
      "region_10     209\n",
      "region_1      174\n",
      "region_24     165\n",
      "region_12     156\n",
      "region_9      134\n",
      "region_21     129\n",
      "region_34     123\n",
      "region_3      110\n",
      "region_33      91\n",
      "region_18      14\n",
      "Name: count, dtype: int64\n",
      "\n",
      "Value Count for education:\n",
      "education\n",
      "Bachelors          11519\n",
      "Masters & above     4841\n",
      "Below Secondary      286\n",
      "Name: count, dtype: int64\n",
      "\n",
      "Value Count for gender:\n",
      "gender\n",
      "m    12314\n",
      "f     5103\n",
      "Name: count, dtype: int64\n",
      "\n",
      "Value Count for recruitment_channel:\n",
      "recruitment_channel\n",
      "other       9751\n",
      "sourcing    7349\n",
      "referred     317\n",
      "Name: count, dtype: int64\n"
     ]
    }
   ],
   "source": [
    "#value counts for categorical columns\n",
    "categorical_cols= [\"department\",\"region\",\"education\",\"gender\",\"recruitment_channel\"]\n",
    "for col in categorical_cols:\n",
    "    if col in df.columns:\n",
    "        print(f\"\\nValue Count for {col}:\")\n",
    "        print(df[col].value_counts())"
   ]
  },
  {
   "cell_type": "code",
   "execution_count": 14,
   "metadata": {},
   "outputs": [
    {
     "name": "stdout",
     "output_type": "stream",
     "text": [
      "\n",
      "Unique values per column:\n",
      "employee_id              17414\n",
      "department                   9\n",
      "region                      34\n",
      "education                    3\n",
      "gender                       2\n",
      "recruitment_channel          3\n",
      "no_of_trainings              9\n",
      "age                         41\n",
      "previous_year_rating         5\n",
      "length_of_service           34\n",
      "KPIs_met_more_than_80        2\n",
      "awards_won                   2\n",
      "avg_training_score          61\n",
      "dtype: int64\n"
     ]
    }
   ],
   "source": [
    "#Number of unique values in each column\n",
    "print(\"\\nUnique values per column:\")\n",
    "print(df.nunique())"
   ]
  },
  {
   "cell_type": "code",
   "execution_count": 15,
   "metadata": {},
   "outputs": [],
   "source": [
    "#Handle Missing Values\n",
    "#Decide how to treat the missing values.\n",
    "if \"previous_year_rating\" in df.columns:\n",
    "    df[\"previous_year_rating\"]=df[\"previous_year_rating\"].fillna(df[\"previous_year_rating\"].median())\n",
    "\n",
    "if \"education\" in df.columns:\n",
    "    df[\"education\"] = df[\"education\"].fillna(df[\"education\"].mode()[0])\n",
    "\n"
   ]
  },
  {
   "cell_type": "code",
   "execution_count": 16,
   "metadata": {},
   "outputs": [
    {
     "name": "stdout",
     "output_type": "stream",
     "text": [
      "Shape after removing duplicates (17415, 13)\n"
     ]
    }
   ],
   "source": [
    "#Handle Duplicates\n",
    "#Remove any duplicate rows (if found earlier).\n",
    "df=df.drop_duplicates()\n",
    "print(\"Shape after removing duplicates\",df.shape)"
   ]
  },
  {
   "cell_type": "code",
   "execution_count": 17,
   "metadata": {},
   "outputs": [],
   "source": [
    "#Encode Categorical Variables\n",
    "#Convert categorical columns into numbers (because models can’t work with text).\n",
    "from sklearn.preprocessing import LabelEncoder\n",
    "categorical_cols=[\"department\",\"region\",\"education\",\"gender\",\"recruitment_channel\"]\n",
    "le = LabelEncoder()\n",
    "for col in categorical_cols:\n",
    "    if col in df.columns:\n",
    "        df[col] = le.fit_transform(df[col])"
   ]
  },
  {
   "cell_type": "code",
   "execution_count": 18,
   "metadata": {},
   "outputs": [],
   "source": [
    "#Feature Scaling (Optional, only for modeling)\n",
    "#For numeric columns like training scores, you can scale them.\n",
    "from sklearn.preprocessing import MinMaxScaler\n",
    "scaler = MinMaxScaler()\n",
    "numeric_cols=[\"age\",\"length_of_service\",\"avg_training_score\"]\n",
    "df[numeric_cols] = scaler.fit_transform(df[numeric_cols])\n"
   ]
  },
  {
   "cell_type": "code",
   "execution_count": 19,
   "metadata": {},
   "outputs": [
    {
     "name": "stdout",
     "output_type": "stream",
     "text": [
      "employee_id              0\n",
      "department               0\n",
      "region                   0\n",
      "education                0\n",
      "gender                   0\n",
      "recruitment_channel      0\n",
      "no_of_trainings          0\n",
      "age                      0\n",
      "previous_year_rating     0\n",
      "length_of_service        0\n",
      "KPIs_met_more_than_80    0\n",
      "awards_won               0\n",
      "avg_training_score       0\n",
      "dtype: int64\n"
     ]
    }
   ],
   "source": [
    "#Checking again is there any missing value\n",
    "print(df.isnull().sum())"
   ]
  },
  {
   "cell_type": "code",
   "execution_count": 20,
   "metadata": {},
   "outputs": [
    {
     "name": "stdout",
     "output_type": "stream",
     "text": [
      "Shape after removing duplicates: (17415, 13)\n"
     ]
    }
   ],
   "source": [
    "#Checking again is there any duplicate value\n",
    "print(\"Shape after removing duplicates:\", df.shape)"
   ]
  },
  {
   "cell_type": "code",
   "execution_count": 21,
   "metadata": {},
   "outputs": [
    {
     "name": "stdout",
     "output_type": "stream",
     "text": [
      "   department  region  education  gender  recruitment_channel\n",
      "0           8      18          0       1                    2\n",
      "1           2      28          0       0                    0\n",
      "2           7       4          0       1                    0\n",
      "3           5      11          0       0                    0\n",
      "4           1      21          0       1                    2\n",
      "5           5      31          0       1                    2\n",
      "6           1      11          0       1                    0\n",
      "7           0      14          0       1                    2\n",
      "8           8      31          2       1                    0\n",
      "9           8      14          0       1                    2\n"
     ]
    }
   ],
   "source": [
    "#Check Encoding of Categorical Columns\n",
    "#Since you used LabelEncoder, text values (like \"Sales & Marketing\", \"Finance\", \"Male\", \"Female\") should now be replaced by numbers.\n",
    "print(df[[\"department\", \"region\", \"education\", \"gender\", \"recruitment_channel\"]].head(10))\n"
   ]
  },
  {
   "cell_type": "code",
   "execution_count": 22,
   "metadata": {},
   "outputs": [
    {
     "name": "stdout",
     "output_type": "stream",
     "text": [
      "                age  length_of_service  avg_training_score\n",
      "count  17415.000000       17415.000000        17415.000000\n",
      "mean       0.370200           0.145500            0.402962\n",
      "std        0.192362           0.126534            0.223639\n",
      "min        0.000000           0.000000            0.000000\n",
      "25%        0.225000           0.060606            0.200000\n",
      "50%        0.325000           0.121212            0.350000\n",
      "75%        0.475000           0.181818            0.600000\n",
      "max        1.000000           1.000000            1.000000\n"
     ]
    }
   ],
   "source": [
    "#Check Scaling of Numeric Columns\n",
    "\n",
    "#You applied MinMaxScaler, so the values of:\n",
    "#age\n",
    "#length_of_service\n",
    "#avg_training_score\n",
    "#should now be between 0 and 1.\n",
    "print(df[[\"age\", \"length_of_service\", \"avg_training_score\"]].describe())"
   ]
  },
  {
   "cell_type": "markdown",
   "metadata": {},
   "source": [
    "# 2. Key Metric Identification:\n"
   ]
  },
  {
   "cell_type": "markdown",
   "metadata": {},
   "source": [
    "Focus on metrics that impact employee performance (e.g.,\n",
    "KPIs, training scores) and retention (e.g., length of service, age, awards).\n"
   ]
  },
  {
   "cell_type": "markdown",
   "metadata": {},
   "source": [
    "Key Metric Identification\n",
    "\n",
    "Here the goal is to pinpoint which features/metrics are most important for:\n",
    "\n",
    "Employee Performance\n",
    "\n",
    "KPIs_met_more_than_80 → whether the employee met performance goals.\n",
    "\n",
    "avg_training_score → effectiveness of training.\n",
    "\n",
    "no_of_trainings → training frequency.\n",
    "\n",
    "previous_year_rating → past performance indicator.\n",
    "\n",
    "Employee Retention\n",
    "\n",
    "length_of_service → loyalty and tenure.\n",
    "\n",
    "age → experience and career stage.\n",
    "\n",
    "awards_won → recognition as a motivator.\n",
    "\n",
    "recruitment_channel / department → might affect retention indirectly."
   ]
  },
  {
   "cell_type": "code",
   "execution_count": 23,
   "metadata": {},
   "outputs": [
    {
     "name": "stdout",
     "output_type": "stream",
     "text": [
      "Average training score by department:\n",
      " department\n",
      "0    0.759419\n",
      "1    0.355445\n",
      "2    0.189771\n",
      "3    0.342219\n",
      "4    0.355860\n",
      "5    0.519673\n",
      "6    0.757530\n",
      "7    0.184277\n",
      "8    0.680794\n",
      "Name: avg_training_score, dtype: float64 \n",
      "\n",
      "Average training score by education:\n",
      " education\n",
      "0    0.395624\n",
      "1    0.448368\n",
      "2    0.418904\n",
      "Name: avg_training_score, dtype: float64 \n",
      "\n",
      "Average length of service by department:\n",
      " department\n",
      "0    0.121159\n",
      "1    0.121514\n",
      "2    0.140284\n",
      "3    0.106061\n",
      "4    0.164526\n",
      "5    0.157197\n",
      "6    0.115097\n",
      "7    0.144031\n",
      "8    0.146788\n",
      "Name: length_of_service, dtype: float64 \n",
      "\n",
      "Average length of service by awards_won:\n",
      " awards_won\n",
      "0    0.146268\n",
      "1    0.113394\n",
      "Name: length_of_service, dtype: float64 \n",
      "\n",
      "KPI comparison (met >80 vs not):\n",
      "                        avg_training_score  no_of_trainings\n",
      "KPIs_met_more_than_80                                     \n",
      "0                                0.390936         1.270846\n",
      "1                                0.424445         1.214880 \n",
      "\n",
      "Average age by department:\n",
      " department\n",
      "0    0.310136\n",
      "1    0.315056\n",
      "2    0.356288\n",
      "3    0.343750\n",
      "4    0.403852\n",
      "5    0.404174\n",
      "6    0.322139\n",
      "7    0.365679\n",
      "8    0.375853\n",
      "Name: age, dtype: float64 \n",
      "\n",
      "Average age by education:\n",
      " education\n",
      "0    0.331529\n",
      "1    0.097727\n",
      "2    0.484456\n",
      "Name: age, dtype: float64 \n",
      "\n"
     ]
    }
   ],
   "source": [
    "# Key Metrics Analysis\n",
    "\n",
    "# 1. Training performance across employees\n",
    "print(\"Average training score by department:\\n\", df.groupby(\"department\")[\"avg_training_score\"].mean(), \"\\n\")\n",
    "print(\"Average training score by education:\\n\", df.groupby(\"education\")[\"avg_training_score\"].mean(), \"\\n\")\n",
    "\n",
    "# 2. Retention metrics\n",
    "print(\"Average length of service by department:\\n\", df.groupby(\"department\")[\"length_of_service\"].mean(), \"\\n\")\n",
    "print(\"Average length of service by awards_won:\\n\", df.groupby(\"awards_won\")[\"length_of_service\"].mean(), \"\\n\")\n",
    "\n",
    "# 3. KPI performance comparison\n",
    "print(\"KPI comparison (met >80 vs not):\\n\", df.groupby(\"KPIs_met_more_than_80\")[[\"avg_training_score\",\"no_of_trainings\"]].mean(), \"\\n\")\n",
    "\n",
    "# 4. Age distribution by group\n",
    "print(\"Average age by department:\\n\", df.groupby(\"department\")[\"age\"].mean(), \"\\n\")\n",
    "print(\"Average age by education:\\n\", df.groupby(\"education\")[\"age\"].mean(), \"\\n\")\n"
   ]
  },
  {
   "cell_type": "code",
   "execution_count": 24,
   "metadata": {},
   "outputs": [
    {
     "data": {
      "image/png": "[encoded data removed]",
      "text/plain": [
       "<Figure size 432x288 with 1 Axes>"
      ]
     },
     "metadata": {
      "needs_background": "light"
     },
     "output_type": "display_data"
    }
   ],
   "source": [
    "# 1. Average Training Score\n",
    "plt.figure(figsize=(6,4))\n",
    "sns.histplot(df[\"avg_training_score\"], bins=20, kde=True)\n",
    "plt.title(\"Distribution of Average Training Score\")\n",
    "plt.xlabel(\"Avg Training Score\")\n",
    "plt.ylabel(\"Count\")\n",
    "plt.show()"
   ]
  },
  {
   "cell_type": "code",
   "execution_count": 25,
   "metadata": {},
   "outputs": [
    {
     "data": {
      "image/png": "[encoded data removed]",
      "text/plain": [
       "<Figure size 432x288 with 1 Axes>"
      ]
     },
     "metadata": {
      "needs_background": "light"
     },
     "output_type": "display_data"
    }
   ],
   "source": [
    "# 2. Length of Service\n",
    "plt.figure(figsize=(6,4))\n",
    "sns.histplot(df[\"length_of_service\"], bins=20, kde=False)\n",
    "plt.title(\"Distribution of Length of Service\")\n",
    "plt.xlabel(\"Years of Service\")\n",
    "plt.ylabel(\"Count\")\n",
    "plt.show()"
   ]
  },
  {
   "cell_type": "code",
   "execution_count": 26,
   "metadata": {},
   "outputs": [
    {
     "data": {
      "image/png": "[encoded data removed]",
      "text/plain": [
       "<Figure size 432x288 with 1 Axes>"
      ]
     },
     "metadata": {
      "needs_background": "light"
     },
     "output_type": "display_data"
    }
   ],
   "source": [
    "# 3. Age\n",
    "plt.figure(figsize=(6,4))\n",
    "sns.histplot(df[\"age\"], bins=20, kde=True)\n",
    "plt.title(\"Distribution of Age\")\n",
    "plt.xlabel(\"Age\")\n",
    "plt.ylabel(\"Count\")\n",
    "plt.show()"
   ]
  },
  {
   "cell_type": "code",
   "execution_count": 27,
   "metadata": {},
   "outputs": [
    {
     "data": {
      "image/png": "[encoded data removed]",
      "text/plain": [
       "<Figure size 432x288 with 1 Axes>"
      ]
     },
     "metadata": {
      "needs_background": "light"
     },
     "output_type": "display_data"
    }
   ],
   "source": [
    "# 4. Awards Won\n",
    "plt.figure(figsize=(6,4))\n",
    "sns.countplot(x=\"awards_won\", data=df)\n",
    "plt.title(\"Awards Won (0 = No, 1 = Yes)\")\n",
    "plt.xlabel(\"Awards Won\")\n",
    "plt.ylabel(\"Count\")\n",
    "plt.show()"
   ]
  },
  {
   "cell_type": "code",
   "execution_count": 28,
   "metadata": {},
   "outputs": [
    {
     "data": {
      "image/png": "[encoded data removed]",
      "text/plain": [
       "<Figure size 432x288 with 1 Axes>"
      ]
     },
     "metadata": {
      "needs_background": "light"
     },
     "output_type": "display_data"
    }
   ],
   "source": [
    "# 5. Previous Year Rating\n",
    "plt.figure(figsize=(6,4))\n",
    "sns.countplot(x=\"previous_year_rating\", data=df)\n",
    "plt.title(\"Distribution of Previous Year Ratings\")\n",
    "plt.xlabel(\"Previous Year Rating\")\n",
    "plt.ylabel(\"Count\")\n",
    "plt.show()"
   ]
  },
  {
   "cell_type": "code",
   "execution_count": 29,
   "metadata": {},
   "outputs": [
    {
     "data": {
      "image/png": "[encoded data removed]",
      "text/plain": [
       "<Figure size 432x288 with 1 Axes>"
      ]
     },
     "metadata": {
      "needs_background": "light"
     },
     "output_type": "display_data"
    }
   ],
   "source": [
    "# 6. KPIs Met More Than 80\n",
    "plt.figure(figsize=(6,4))\n",
    "sns.countplot(x=\"KPIs_met_more_than_80\", data=df)\n",
    "plt.title(\"KPI > 80 Met Distribution (0 = No, 1 = Yes)\")\n",
    "plt.xlabel(\"KPI Met > 80\")\n",
    "plt.ylabel(\"Count\")\n",
    "plt.show()"
   ]
  },
  {
   "cell_type": "code",
   "execution_count": 30,
   "metadata": {},
   "outputs": [
    {
     "data": {
      "text/plain": [
       "<Axes: xlabel='age', ylabel='Count'>"
      ]
     },
     "execution_count": 30,
     "metadata": {},
     "output_type": "execute_result"
    },
    {
     "data": {
      "image/png": "[encoded data removed]",
      "text/plain": [
       "<Figure size 432x288 with 1 Axes>"
      ]
     },
     "metadata": {
      "needs_background": "light"
     },
     "output_type": "display_data"
    }
   ],
   "source": [
    "sns.histplot(df[\"age\"], bins=20, kde=True)   # deprecated, but works in old seaborn"
   ]
  },
  {
   "cell_type": "markdown",
   "metadata": {},
   "source": [
    "# Trend Analysis: \n"
   ]
  },
  {
   "cell_type": "markdown",
   "metadata": {},
   "source": [
    "Use visualisations such as bar charts, histograms, and scatter plots\n",
    "to identify trends across different departments, regions, and training activities.\n"
   ]
  },
  {
   "cell_type": "code",
   "execution_count": 31,
   "metadata": {},
   "outputs": [
    {
     "data": {
      "image/png": "[encoded data removed]",
      "text/plain": [
       "<Figure size 576x360 with 1 Axes>"
      ]
     },
     "metadata": {
      "needs_background": "light"
     },
     "output_type": "display_data"
    },
    {
     "data": {
      "image/png": "[encoded data removed]",
      "text/plain": [
       "<Figure size 576x360 with 1 Axes>"
      ]
     },
     "metadata": {
      "needs_background": "light"
     },
     "output_type": "display_data"
    }
   ],
   "source": [
    "#Department Trends\n",
    "#Count of employees per department\n",
    "#Average training score per department\n",
    "#KPI success / awards distribution per department\n",
    "plt.figure(figsize=(8,5))\n",
    "sns.countplot(x=\"department\", data=df)\n",
    "plt.title(\"Employee Count by Department\")\n",
    "plt.xticks(rotation=45)\n",
    "plt.show()\n",
    "\n",
    "dept_training = df.groupby(\"department\")[\"avg_training_score\"].mean().sort_values()\n",
    "dept_training.plot(kind=\"bar\", figsize=(8,5), title=\"Average Training Score by Department\")\n",
    "plt.ylabel(\"Avg Training Score\")\n",
    "plt.show()"
   ]
  },
  {
   "cell_type": "code",
   "execution_count": 32,
   "metadata": {},
   "outputs": [
    {
     "data": {
      "image/png": "[encoded data removed]",
      "text/plain": [
       "<Figure size 720x360 with 1 Axes>"
      ]
     },
     "metadata": {
      "needs_background": "light"
     },
     "output_type": "display_data"
    }
   ],
   "source": [
    "#Region Trends\n",
    "#Employee distribution across regions\n",
    "#Average KPI success across regions\n",
    "plt.figure(figsize=(10,5))\n",
    "sns.countplot(x=\"region\", data=df, order=df[\"region\"].value_counts().index[:10])  # top 10 regions\n",
    "plt.title(\"Employee Count by Region (Top 10)\")\n",
    "plt.xticks(rotation=45)\n",
    "plt.show()"
   ]
  },
  {
   "cell_type": "code",
   "execution_count": 33,
   "metadata": {},
   "outputs": [
    {
     "data": {
      "image/png": "[encoded data removed]",
      "text/plain": [
       "<Figure size 432x288 with 1 Axes>"
      ]
     },
     "metadata": {
      "needs_background": "light"
     },
     "output_type": "display_data"
    },
    {
     "data": {
      "image/png": "[encoded data removed]",
      "text/plain": [
       "<Figure size 432x288 with 1 Axes>"
      ]
     },
     "metadata": {
      "needs_background": "light"
     },
     "output_type": "display_data"
    }
   ],
   "source": [
    "#Training Activities\n",
    "#Distribution of number of trainings attended\n",
    "#Relationship between number of trainings and avg training score\n",
    "plt.figure(figsize=(6,4))\n",
    "sns.countplot(x=\"no_of_trainings\", data=df)\n",
    "plt.title(\"Number of Trainings Attended\")\n",
    "plt.show()\n",
    "\n",
    "plt.figure(figsize=(6,4))\n",
    "sns.scatterplot(x=\"no_of_trainings\", y=\"avg_training_score\", data=df)\n",
    "plt.title(\"Training Score vs Number of Trainings\")\n",
    "plt.show()"
   ]
  },
  {
   "cell_type": "code",
   "execution_count": 34,
   "metadata": {},
   "outputs": [
    {
     "data": {
      "image/png": "[encoded data removed]",
      "text/plain": [
       "<Figure size 432x288 with 1 Axes>"
      ]
     },
     "metadata": {
      "needs_background": "light"
     },
     "output_type": "display_data"
    },
    {
     "data": {
      "image/png": "[encoded data removed]",
      "text/plain": [
       "<Figure size 432x288 with 1 Axes>"
      ]
     },
     "metadata": {
      "needs_background": "light"
     },
     "output_type": "display_data"
    }
   ],
   "source": [
    "# --- Age Trends ---\n",
    "plt.figure(figsize=(6,4))\n",
    "sns.histplot(df[\"age\"], bins=15, kde=True)\n",
    "plt.title(\"Age Distribution of Employees\")\n",
    "plt.show()\n",
    "\n",
    "plt.figure(figsize=(6,4))\n",
    "sns.boxplot(x=\"KPIs_met_more_than_80\", y=\"age\", data=df)\n",
    "plt.title(\"Age vs KPI Success\")\n",
    "plt.show()"
   ]
  },
  {
   "cell_type": "code",
   "execution_count": 35,
   "metadata": {},
   "outputs": [
    {
     "data": {
      "image/png": "[encoded data removed]",
      "text/plain": [
       "<Figure size 432x288 with 1 Axes>"
      ]
     },
     "metadata": {
      "needs_background": "light"
     },
     "output_type": "display_data"
    },
    {
     "data": {
      "image/png": "[encoded data removed]",
      "text/plain": [
       "<Figure size 432x288 with 1 Axes>"
      ]
     },
     "metadata": {
      "needs_background": "light"
     },
     "output_type": "display_data"
    }
   ],
   "source": [
    "\n",
    "# --- Education Trends ---\n",
    "plt.figure(figsize=(6,4))\n",
    "sns.countplot(x=\"education\", data=df)\n",
    "plt.title(\"Employee Count by Education Level\")\n",
    "plt.xticks(rotation=30)\n",
    "plt.show()\n",
    "\n",
    "edu_score = df.groupby(\"education\")[\"avg_training_score\"].mean().sort_values()\n",
    "\n",
    "ax = edu_score.plot(\n",
    "    kind=\"bar\",\n",
    "    figsize=(6,4),\n",
    "    title=\"Average Training Score by Education Level\"\n",
    ")\n",
    "plt.ylabel(\"Avg Training Score\")   # <-- set ylabel here\n",
    "plt.show()\n"
   ]
  },
  {
   "cell_type": "code",
   "execution_count": 36,
   "metadata": {},
   "outputs": [
    {
     "data": {
      "image/png": "[encoded data removed]",
      "text/plain": [
       "<Figure size 432x288 with 1 Axes>"
      ]
     },
     "metadata": {
      "needs_background": "light"
     },
     "output_type": "display_data"
    }
   ],
   "source": [
    "#Average Training Score by Education\n",
    "plt.figure(figsize=(6,4))\n",
    "edu_score = df.groupby(\"education\")[\"avg_training_score\"].mean().sort_values()\n",
    "sns.barplot(x=edu_score.index, y=edu_score.values)\n",
    "plt.title(\"Average Training Score by Education Level\")\n",
    "plt.ylabel(\"Avg Training Score\")\n",
    "plt.xlabel(\"Education Level\")\n",
    "plt.show()\n"
   ]
  },
  {
   "cell_type": "code",
   "execution_count": 37,
   "metadata": {},
   "outputs": [
    {
     "data": {
      "image/png": "[encoded data removed]",
      "text/plain": [
       "<Figure size 504x288 with 1 Axes>"
      ]
     },
     "metadata": {
      "needs_background": "light"
     },
     "output_type": "display_data"
    }
   ],
   "source": [
    "# Retention (Length of Service) by Age\n",
    "plt.figure(figsize=(7,4))\n",
    "sns.lineplot(data=df, x=\"age\", y=\"length_of_service\",  marker=\"o\")\n",
    "plt.title(\"Retention Trend (Length of Service) by Age\")\n",
    "plt.ylabel(\"Average Length of Service\")\n",
    "plt.xlabel(\"Age\")\n",
    "plt.show()"
   ]
  },
  {
   "cell_type": "code",
   "execution_count": 38,
   "metadata": {},
   "outputs": [
    {
     "data": {
      "image/png": "[encoded data removed]",
      "text/plain": [
       "<Figure size 720x360 with 1 Axes>"
      ]
     },
     "metadata": {
      "needs_background": "light"
     },
     "output_type": "display_data"
    }
   ],
   "source": [
    "#Average KPI Success Rate by Department\n",
    "plt.figure(figsize=(10,5))\n",
    "dept_kpi = df.groupby(\"department\")[\"KPIs_met_more_than_80\"].mean().sort_values()\n",
    "sns.barplot(x=dept_kpi.index, y=dept_kpi.values)\n",
    "plt.xticks(rotation=45)\n",
    "plt.title(\"Average KPI Success (>80%) by Department\")\n",
    "plt.ylabel(\"Proportion Meeting KPI >80%\")\n",
    "plt.xlabel(\"Department\")\n",
    "plt.show()"
   ]
  },
  {
   "cell_type": "code",
   "execution_count": 39,
   "metadata": {},
   "outputs": [
    {
     "data": {
      "image/png": "[encoded data removed]",
      "text/plain": [
       "<Figure size 504x288 with 1 Axes>"
      ]
     },
     "metadata": {
      "needs_background": "light"
     },
     "output_type": "display_data"
    }
   ],
   "source": [
    "#Average Training Score by Number of Trainings\n",
    "plt.figure(figsize=(7,4))\n",
    "train_score = df.groupby(\"no_of_trainings\")[\"avg_training_score\"].mean()\n",
    "sns.barplot(x=train_score.index, y=train_score.values)\n",
    "plt.title(\"Training Effectiveness: Avg Score vs Number of Trainings\")\n",
    "plt.ylabel(\"Avg Training Score\")\n",
    "plt.xlabel(\"Number of Trainings\")\n",
    "plt.show()\n"
   ]
  },
  {
   "cell_type": "code",
   "execution_count": 40,
   "metadata": {},
   "outputs": [],
   "source": [
    "#Define risk proxy for “likely to leave” and compute a risk score per employee\n",
    "df_work = df.copy()"
   ]
  },
  {
   "cell_type": "code",
   "execution_count": 41,
   "metadata": {},
   "outputs": [],
   "source": [
    "# Buckets for interpretability\n",
    "if 'age' in df_work.columns:\n",
    "    df_work['age_bucket'] = pd.cut(df_work['age'], bins=[0,25,35,45,55,200], labels=['<25','25-34','35-44','45-54','55+'])\n",
    "if 'length_of_service' in df_work.columns:\n",
    "    df_work['tenure_bucket'] = pd.cut(df_work['length_of_service'], bins=[-1,1,3,5,10,100], labels=['<1yr','1-2yr','3-4yr','5-9yr','10yr+'])\n"
   ]
  },
  {
   "cell_type": "code",
   "execution_count": 42,
   "metadata": {},
   "outputs": [],
   "source": [
    "#Helper: min-max scale (robust if constant column)\n",
    "def minmax(x):\n",
    "    x = x.astype(float)\n",
    "    rng = x.max() - x.min()\n",
    "    return (x - x.min())/rng if rng != 0 else pd.Series(0.5, index=x.index)"
   ]
  },
  {
   "cell_type": "code",
   "execution_count": 43,
   "metadata": {},
   "outputs": [],
   "source": [
    "# Build components (lower values => higher risk where appropriate)\n",
    "comp = {}"
   ]
  },
  {
   "cell_type": "code",
   "execution_count": 44,
   "metadata": {},
   "outputs": [],
   "source": [
    "# Shorter tenure => higher risk (invert tenure)\n",
    "comp['tenure_risk'] = 1 - minmax(df_work['length_of_service']) if 'length_of_service' in df_work.columns else 0"
   ]
  },
  {
   "cell_type": "code",
   "execution_count": 45,
   "metadata": {},
   "outputs": [],
   "source": [
    "# Lower KPI => higher risk (if binary 0/1, invert directly)\n",
    "if 'KPIs_met_more_than_80' in df_work.columns:\n",
    "    if set(df_work['KPIs_met_more_than_80'].dropna().unique()) <= {0,1}:\n",
    "        comp['kpi_risk'] = 1 - df_work['KPIs_met_more_than_80'].astype(float)\n",
    "    else:\n",
    "        comp['kpi_risk'] = 1 - minmax(df_work['KPIs_met_more_than_80'])\n",
    "else:\n",
    "    comp['kpi_risk'] = 0"
   ]
  },
  {
   "cell_type": "code",
   "execution_count": 46,
   "metadata": {},
   "outputs": [],
   "source": [
    "# Interaction: many trainings but low scores may indicate frustration\n",
    "if {'no_of_trainings','avg_training_score'}.issubset(df_work.columns):\n",
    "    train_int = minmax(df_work['no_of_trainings']) * (1 - minmax(df_work['avg_training_score']))\n",
    "    comp['train_load_risk'] = train_int\n",
    "else:\n",
    "    comp['train_load_risk'] = 0"
   ]
  },
  {
   "cell_type": "code",
   "execution_count": 47,
   "metadata": {},
   "outputs": [],
   "source": [
    "# Assemble into DataFrame\n",
    "risk_df = pd.DataFrame(comp, index=df_work.index)"
   ]
  },
  {
   "cell_type": "code",
   "execution_count": 48,
   "metadata": {},
   "outputs": [],
   "source": [
    "# Weights (sum to 1)\n",
    "weights = {\n",
    "    'tenure_risk':        0.30,\n",
    "    'kpi_risk':           0.25,\n",
    "    'prev_rating_risk':   0.20,\n",
    "    'train_score_risk':   0.15,\n",
    "    'awards_risk':        0.05,\n",
    "    'train_load_risk':    0.05,\n",
    "}"
   ]
  },
  {
   "cell_type": "code",
   "execution_count": 49,
   "metadata": {},
   "outputs": [],
   "source": [
    "# Compute weighted risk score\n",
    "df_work['risk_score'] = sum(risk_df[k]*w for k,w in weights.items() if k in risk_df.columns)\n",
    "df_work['risk_decile'] = pd.qcut(df_work['risk_score'].rank(method='first'), 10, labels=[f'D{i}' for i in range(1,11)])"
   ]
  },
  {
   "cell_type": "code",
   "execution_count": 50,
   "metadata": {},
   "outputs": [
    {
     "name": "stdout",
     "output_type": "stream",
     "text": [
      "Top risk by department:\n",
      "   department  employees  avg_risk  p98_risk  avg_training  avg_prev_rating  \\\n",
      "7           7       5458  0.438841  0.554896      0.184277         3.096189   \n",
      "3           3        332  0.429608  0.550000      0.342219         3.382530   \n",
      "2           2        831  0.418040  0.550000      0.189771         3.513839   \n",
      "8           8       2199  0.417436  0.550000      0.680794         3.143702   \n",
      "1           1        802  0.415410  0.553437      0.355445         3.487531   \n",
      "0           0       1697  0.414145  0.551058      0.759419         3.468474   \n",
      "5           5       2240  0.410564  0.550000      0.519673         3.234375   \n",
      "6           6        332  0.403749  0.550000      0.757530         3.659639   \n",
      "4           4       3524  0.391147  0.550000      0.355860         3.631385   \n",
      "\n",
      "   avg_tenure  \n",
      "7    0.144031  \n",
      "3    0.106061  \n",
      "2    0.140284  \n",
      "8    0.146788  \n",
      "1    0.121514  \n",
      "0    0.121159  \n",
      "5    0.157197  \n",
      "6    0.115097  \n",
      "4    0.164526   \n",
      "\n",
      "Top risk by region:\n",
      "    region  employees  avg_risk  p98_risk  avg_training  avg_prev_rating  \\\n",
      "33      33        134  0.474664  0.551567      0.345647         2.813433   \n",
      "16      16        165  0.462279  0.550000      0.427071         2.642424   \n",
      "25      25        318  0.458613  0.555173      0.390147         3.261006   \n",
      "29      29        252  0.453453  0.550000      0.484127         3.099206   \n",
      "0        0        174  0.437626  0.552756      0.324904         3.241379   \n",
      "26      26         91  0.437138  0.550000      0.494322         3.021978   \n",
      "24      24        646  0.435081  0.550000      0.402322         3.239938   \n",
      "23      23        209  0.435059  0.553783      0.385486         3.387560   \n",
      "12      12        242  0.433422  0.551363      0.362948         3.293388   \n",
      "3        3        156  0.433181  0.550000      0.312821         3.294872   \n",
      "\n",
      "    avg_tenure  \n",
      "33    0.086160  \n",
      "16    0.106703  \n",
      "25    0.092529  \n",
      "29    0.112554  \n",
      "0     0.114420  \n",
      "26    0.158841  \n",
      "24    0.123604  \n",
      "23    0.113963  \n",
      "12    0.129477  \n",
      "3     0.092463   \n",
      "\n",
      "Top risk by education:\n",
      "   education  employees  avg_risk  p98_risk  avg_training  avg_prev_rating  \\\n",
      "1          1        286  0.427759  0.553229      0.448368         3.367133   \n",
      "0          0      12288  0.423896  0.551326      0.395624         3.297933   \n",
      "2          2       4841  0.400756  0.540909      0.418904         3.368519   \n",
      "\n",
      "   avg_tenure  \n",
      "1    0.023098  \n",
      "0    0.129584  \n",
      "2    0.193129   \n",
      "\n",
      "Top risk by tenure bucket:\n",
      "  tenure_bucket  employees  avg_risk  p98_risk  avg_training  avg_prev_rating  \\\n",
      "0          <1yr      17415  0.417527      0.55      0.402962         3.318691   \n",
      "1         1-2yr          0       NaN       NaN           NaN              NaN   \n",
      "2         3-4yr          0       NaN       NaN           NaN              NaN   \n",
      "3         5-9yr          0       NaN       NaN           NaN              NaN   \n",
      "4         10yr+          0       NaN       NaN           NaN              NaN   \n",
      "\n",
      "   avg_tenure  \n",
      "0      0.1455  \n",
      "1         NaN  \n",
      "2         NaN  \n",
      "3         NaN  \n",
      "4         NaN   \n",
      "\n",
      "Top risk by age bucket:\n",
      "  age_bucket  employees  avg_risk  p98_risk  avg_training  avg_prev_rating  \\\n",
      "0        <25      17373  0.417376      0.55      0.403162         3.319058   \n",
      "1      25-34          0       NaN       NaN           NaN              NaN   \n",
      "2      35-44          0       NaN       NaN           NaN              NaN   \n",
      "3      45-54          0       NaN       NaN           NaN              NaN   \n",
      "4        55+          0       NaN       NaN           NaN              NaN   \n",
      "\n",
      "   avg_tenure  \n",
      "0    0.145808  \n",
      "1         NaN  \n",
      "2         NaN  \n",
      "3         NaN  \n",
      "4         NaN   \n",
      "\n"
     ]
    }
   ],
   "source": [
    "# Define grouping columns\n",
    "group_cols = [\"department\", \"region\", \"education\", \"tenure_bucket\", \"age_bucket\"]\n",
    "\n",
    "# Build cohort tables\n",
    "cohort_tables = {}\n",
    "for col in group_cols:\n",
    "    g = df_work.groupby(col).agg(\n",
    "        employees=('employee_id', 'count'),\n",
    "        avg_risk=('risk_score', 'mean'),\n",
    "        p98_risk=('risk_score', lambda x: x.quantile(0.98)),\n",
    "        avg_training=('avg_training_score', 'mean') if 'avg_training_score' in df_work.columns else ('risk_score','mean'),\n",
    "        avg_prev_rating=('previous_year_rating', 'mean') if 'previous_year_rating' in df_work.columns else ('risk_score','mean'),\n",
    "        avg_tenure=('length_of_service', 'mean') if 'length_of_service' in df_work.columns else ('risk_score','mean'),\n",
    "    ).reset_index().sort_values(['avg_risk','employees'], ascending=[False,False])\n",
    "    \n",
    "    cohort_tables[col] = g\n",
    "\n",
    "# Top 10 highest-risk cohorts per grouping\n",
    "top_cohorts = {k: v.head(10) for k, v in cohort_tables.items()}\n",
    "\n",
    "# Show results\n",
    "print(\"Top risk by department:\")\n",
    "print(top_cohorts['department'], \"\\n\")\n",
    "\n",
    "print(\"Top risk by region:\")\n",
    "print(top_cohorts['region'], \"\\n\")\n",
    "\n",
    "print(\"Top risk by education:\")\n",
    "print(top_cohorts['education'], \"\\n\")\n",
    "\n",
    "print(\"Top risk by tenure bucket:\")\n",
    "print(top_cohorts['tenure_bucket'], \"\\n\")\n",
    "\n",
    "print(\"Top risk by age bucket:\")\n",
    "print(top_cohorts['age_bucket'], \"\\n\")\n"
   ]
  },
  {
   "cell_type": "code",
   "execution_count": 51,
   "metadata": {},
   "outputs": [],
   "source": [
    "# Top 10 highest-risk cohorts per grouping\n",
    "top_cohorts = {k: v.head(10) for k,v in cohort_tables.items()}"
   ]
  },
  {
   "cell_type": "code",
   "execution_count": 52,
   "metadata": {},
   "outputs": [
    {
     "name": "stdout",
     "output_type": "stream",
     "text": [
      "Top 50 high-risk employees with driver components:\n",
      "       employee_id  department  region  education    age  length_of_service  \\\n",
      "9033         12119           7      18          0  0.200           0.000000   \n",
      "2946          8016           7      14          0  0.175           0.000000   \n",
      "8357         64142           7      14          0  0.200           0.000000   \n",
      "15622        11926           7      14          0  0.125           0.030303   \n",
      "10769        39414           7      14          0  0.200           0.000000   \n",
      "17207         3626           7      14          0  0.250           0.000000   \n",
      "13922        23923           7      11          0  0.225           0.000000   \n",
      "10486        62798           7      24          0  0.125           0.000000   \n",
      "14121        54270           7      25          0  0.200           0.000000   \n",
      "2460         72160           7      14          0  0.225           0.000000   \n",
      "9124         62059           7       6          0  0.125           0.000000   \n",
      "15372        42861           7      33          0  0.175           0.000000   \n",
      "17126        17192           7      14          0  0.275           0.000000   \n",
      "17041        53800           7      11          0  0.250           0.000000   \n",
      "3586         52932           1       6          0  0.200           0.000000   \n",
      "5680         29919           7      31          0  0.200           0.000000   \n",
      "10710        45886           7      14          2  0.400           0.060606   \n",
      "16164        60957           1      11          0  0.100           0.000000   \n",
      "14281        65451           1      14          1  0.100           0.000000   \n",
      "17119        61104           1      14          0  0.150           0.000000   \n",
      "\n",
      "       risk_score  tenure_risk  kpi_risk  train_load_risk  \n",
      "9033     0.575521     1.000000       1.0         0.510417  \n",
      "2946     0.575000     1.000000       1.0         0.500000  \n",
      "8357     0.574479     1.000000       1.0         0.489583  \n",
      "15622    0.569659     0.969697       1.0         0.575000  \n",
      "10769    0.566250     1.000000       1.0         0.325000  \n",
      "17207    0.565938     1.000000       1.0         0.318750  \n",
      "13922    0.565625     1.000000       1.0         0.312500  \n",
      "10486    0.565312     1.000000       1.0         0.306250  \n",
      "14121    0.565000     1.000000       1.0         0.300000  \n",
      "2460     0.565000     1.000000       1.0         0.300000  \n",
      "9124     0.564688     1.000000       1.0         0.293750  \n",
      "15372    0.564688     1.000000       1.0         0.293750  \n",
      "17126    0.564688     1.000000       1.0         0.293750  \n",
      "17041    0.564688     1.000000       1.0         0.293750  \n",
      "3586     0.564063     1.000000       1.0         0.281250  \n",
      "5680     0.564063     1.000000       1.0         0.281250  \n",
      "10710    0.563068     0.939394       1.0         0.625000  \n",
      "16164    0.562813     1.000000       1.0         0.256250  \n",
      "14281    0.562813     1.000000       1.0         0.256250  \n",
      "17119    0.561563     1.000000       1.0         0.231250  \n"
     ]
    }
   ],
   "source": [
    "#List specific high-risk employees and their drivers (for targeted outreach)\n",
    "driver_cols = ['tenure_risk','kpi_risk','prev_rating_risk','train_score_risk','awards_risk','train_load_risk']\n",
    "present_drivers = [c for c in driver_cols if c in risk_df.columns]\n",
    "\n",
    "emp_view = df_work[['employee_id','department','region','education','age','length_of_service','risk_score']].join(risk_df[present_drivers])\n",
    "emp_view = emp_view.sort_values('risk_score', ascending=False)\n",
    "\n",
    "# Top-N employees\n",
    "topN = 50\n",
    "top_emps = emp_view.head(topN)\n",
    "print(f\"Top {topN} high-risk employees with driver components:\")\n",
    "print(top_emps.head(20))  # print first 20; increase if needed"
   ]
  },
  {
   "cell_type": "code",
   "execution_count": 53,
   "metadata": {},
   "outputs": [
    {
     "name": "stdout",
     "output_type": "stream",
     "text": [
      "Sample employee-level insights:\n",
      "   employee_id  department  region  education  length_of_service  \\\n",
      "0         8724           8      18          0           0.000000   \n",
      "1        74430           2      28          0           0.121212   \n",
      "2        72255           7       4          0           0.090909   \n",
      "3        38562           5      11          0           0.242424   \n",
      "4        64486           1      21          0           0.181818   \n",
      "5        46232           5      31          0           0.030303   \n",
      "6        54542           1      11          0           0.060606   \n",
      "7        67269           0      14          0           0.060606   \n",
      "8        66174           8      31          2           0.303030   \n",
      "9        76303           8      14          0           0.030303   \n",
      "\n",
      "   avg_training_score  risk_score  train_load_risk  tenure_risk  award_risk  \\\n",
      "0            0.633333           3                1            1           1   \n",
      "1            0.200000           3                1            1           1   \n",
      "2            0.133333           3                1            1           1   \n",
      "3            0.433333           3                1            1           1   \n",
      "4            0.366667           3                1            1           1   \n",
      "5            0.483333           3                1            1           1   \n",
      "6            0.300000           3                1            1           1   \n",
      "7            0.766667           3                1            1           1   \n",
      "8            0.600000           3                1            1           1   \n",
      "9            0.616667           3                1            1           1   \n",
      "\n",
      "                                     recommendations  \n",
      "0  Needs additional training support; Early tenur...  \n",
      "1  Needs additional training support; Early tenur...  \n",
      "2  Needs additional training support; Early tenur...  \n",
      "3  Needs additional training support; Early tenur...  \n",
      "4  Needs additional training support; Early tenur...  \n",
      "5  Needs additional training support; Early tenur...  \n",
      "6  Needs additional training support; Early tenur...  \n",
      "7  Needs additional training support; Early tenur...  \n",
      "8  Needs additional training support; Early tenur...  \n",
      "9  Needs additional training support; Early tenur...  \n",
      "\n",
      "Department-level recommendations:\n",
      "   department  risk_score                                    recommendations\n",
      "6           6    2.984940  Needs additional training support; Early tenur...\n",
      "2           2    2.983153  Needs additional training support; Early tenur...\n",
      "3           3    2.981928  Needs additional training support; Early tenur...\n",
      "1           1    2.981297  Needs additional training support; Early tenur...\n",
      "7           7    2.978014  Needs additional training support; Early tenur...\n",
      "4           4    2.974745  Needs additional training support; Early tenur...\n",
      "0           0    2.974661  Needs additional training support; Early tenur...\n",
      "5           5    2.974554  Needs additional training support; Early tenur...\n",
      "8           8    2.973624  Needs additional training support; Early tenur... \n",
      "\n",
      "Region-level recommendations:\n",
      "    region  risk_score                                    recommendations\n",
      "0        0    3.000000  Needs additional training support; Early tenur...\n",
      "9        9    3.000000  Needs additional training support; Early tenur...\n",
      "16      16    2.993939  Needs additional training support; Early tenur...\n",
      "10      10    2.990476  Needs additional training support; Early tenur...\n",
      "23      23    2.990431  Needs additional training support; Early tenur...\n",
      "2        2    2.985714  Needs additional training support; Early tenur...\n",
      "18      18    2.985294  Needs additional training support; Early tenur...\n",
      "5        5    2.984906  Needs additional training support; Early tenur...\n",
      "13      13    2.984496  Needs additional training support; Early tenur...\n",
      "20      20    2.983721  Needs additional training support; Early tenur... \n",
      "\n",
      "Education-level recommendations:\n",
      "   education  risk_score                                    recommendations\n",
      "0          0    2.977702  Needs additional training support; Early tenur...\n",
      "2          2    2.974385  Needs additional training support; Early tenur...\n",
      "1          1    2.968531  Needs additional training support; Early tenur... \n",
      "\n",
      "Tenure-level recommendations:\n",
      "  tenure_bucket  risk_score                                    recommendations\n",
      "0            <2    2.976692  Needs additional training support; Early tenur...\n",
      "1           2-5         NaN                                 Low immediate risk\n",
      "2          5-10         NaN                                 Low immediate risk\n",
      "3         10-20         NaN                                 Low immediate risk\n",
      "4           20+         NaN                                 Low immediate risk \n",
      "\n",
      "Age-level recommendations:\n",
      "  age_bucket  risk_score     recommendations\n",
      "0      18-25         NaN  Low immediate risk\n",
      "1      26-35         NaN  Low immediate risk\n",
      "2      36-45         NaN  Low immediate risk\n",
      "3      46-55         NaN  Low immediate risk\n",
      "4      56-65         NaN  Low immediate risk \n",
      "\n"
     ]
    }
   ],
   "source": [
    "#Auto-generate actionable recommendations per cohort based on drivers\n",
    "\n",
    "# -------------------------\n",
    "# Actionable Insights (Safe Version)\n",
    "# -------------------------\n",
    "\n",
    "# 1. Construct Risk Drivers\n",
    "df_work[\"tenure_bucket\"] = pd.cut(df_work[\"length_of_service\"], \n",
    "                                  bins=[0,2,5,10,20,40], \n",
    "                                  labels=[\"<2\",\"2-5\",\"5-10\",\"10-20\",\"20+\"])\n",
    "df_work[\"age_bucket\"] = pd.cut(df_work[\"age\"], \n",
    "                               bins=[18,25,35,45,55,65], \n",
    "                               labels=[\"18-25\",\"26-35\",\"36-45\",\"46-55\",\"56-65\"])\n",
    "\n",
    "risk_df = pd.DataFrame(index=df_work.index)\n",
    "\n",
    "# Add risk drivers only if columns exist\n",
    "if \"avg_training_score\" in df_work.columns:\n",
    "    risk_df[\"train_load_risk\"] = (df_work[\"avg_training_score\"] < 60).astype(int)\n",
    "\n",
    "if \"KPIs_met\" in df_work.columns:\n",
    "    risk_df[\"kpi_risk\"] = (df_work[\"KPIs_met\"] < 2).astype(int)\n",
    "\n",
    "if \"length_of_service\" in df_work.columns:\n",
    "    risk_df[\"tenure_risk\"] = (df_work[\"length_of_service\"] < 3).astype(int)\n",
    "\n",
    "if \"awards_won\" in df_work.columns:\n",
    "    risk_df[\"award_risk\"] = (df_work[\"awards_won\"] == 0).astype(int)\n",
    "\n",
    "# Aggregate into one score\n",
    "df_work[\"risk_score\"] = risk_df.sum(axis=1)\n",
    "\n",
    "# Keep track of available driver columns\n",
    "present_drivers = list(risk_df.columns)\n",
    "\n",
    "\n",
    "# 2. Employee-Level Recommendations\n",
    "def recommend_row(row):\n",
    "    recs = []\n",
    "    if \"train_load_risk\" in row and row[\"train_load_risk\"] == 1:\n",
    "        recs.append(\"Needs additional training support\")\n",
    "    if \"kpi_risk\" in row and row[\"kpi_risk\"] == 1:\n",
    "        recs.append(\"Focus on KPI improvement\")\n",
    "    if \"tenure_risk\" in row and row[\"tenure_risk\"] == 1:\n",
    "        recs.append(\"Early tenure - assign mentor\")\n",
    "    if \"award_risk\" in row and row[\"award_risk\"] == 1:\n",
    "        recs.append(\"Increase recognition efforts\")\n",
    "    return \"; \".join(recs) if recs else \"Low immediate risk\"\n",
    "\n",
    "# Merge drivers back into df_work\n",
    "for col in risk_df.columns:\n",
    "    df_work[col] = risk_df[col]\n",
    "\n",
    "emp_view = df_work[[\"employee_id\",\"department\",\"region\",\"education\",\n",
    "                    \"length_of_service\",\"avg_training_score\",\"risk_score\"] \n",
    "                   + present_drivers].copy()\n",
    "\n",
    "emp_view[\"recommendations\"] = emp_view.apply(recommend_row, axis=1)\n",
    "\n",
    "print(\"Sample employee-level insights:\")\n",
    "print(emp_view.head(10))\n",
    "\n",
    "\n",
    "# 3. Cohort-Level Recommendations\n",
    "def cohort_recommendations(df_in, groupby_cols):\n",
    "    available_drivers = [c for c in present_drivers if c in df_in.columns]\n",
    "    drv_means = df_in.groupby(groupby_cols)[available_drivers + [\"risk_score\"]].mean().reset_index()\n",
    "    drv_means[\"recommendations\"] = drv_means.apply(recommend_row, axis=1)\n",
    "    drv_means = drv_means.sort_values(\"risk_score\", ascending=False)\n",
    "    return drv_means\n",
    "\n",
    "# Run for major groupings\n",
    "dept_recs   = cohort_recommendations(df_work, [\"department\"]).head(10)\n",
    "region_recs = cohort_recommendations(df_work, [\"region\"]).head(10)\n",
    "edu_recs    = cohort_recommendations(df_work, [\"education\"]).head(10)\n",
    "tenure_recs = cohort_recommendations(df_work, [\"tenure_bucket\"]).head(10)\n",
    "age_recs    = cohort_recommendations(df_work, [\"age_bucket\"]).head(10)\n",
    "\n",
    "# Print results\n",
    "print(\"\\nDepartment-level recommendations:\")\n",
    "print(dept_recs[[\"department\",\"risk_score\",\"recommendations\"]], \"\\n\")\n",
    "\n",
    "print(\"Region-level recommendations:\")\n",
    "print(region_recs[[\"region\",\"risk_score\",\"recommendations\"]], \"\\n\")\n",
    "\n",
    "print(\"Education-level recommendations:\")\n",
    "print(edu_recs[[\"education\",\"risk_score\",\"recommendations\"]], \"\\n\")\n",
    "\n",
    "print(\"Tenure-level recommendations:\")\n",
    "print(tenure_recs[[\"tenure_bucket\",\"risk_score\",\"recommendations\"]], \"\\n\")\n",
    "\n",
    "print(\"Age-level recommendations:\")\n",
    "print(age_recs[[\"age_bucket\",\"risk_score\",\"recommendations\"]], \"\\n\")\n"
   ]
  },
  {
   "cell_type": "markdown",
   "metadata": {},
   "source": [
    "# Interpretability: "
   ]
  },
  {
   "cell_type": "markdown",
   "metadata": {},
   "source": [
    "Ensure all insights are presented in a way that is easy to understand\n",
    "for HR and management, supporting decision-making with clear, data-driven\n",
    "evidence."
   ]
  },
  {
   "cell_type": "code",
   "execution_count": 54,
   "metadata": {},
   "outputs": [
    {
     "name": "stdout",
     "output_type": "stream",
     "text": [
      "Average Risk Score by Department:\n",
      "department\n",
      "6    2.984940\n",
      "2    2.983153\n",
      "3    2.981928\n",
      "1    2.981297\n",
      "7    2.978014\n",
      "4    2.974745\n",
      "0    2.974661\n",
      "5    2.974554\n",
      "8    2.973624\n",
      "Name: risk_score, dtype: float64\n"
     ]
    },
    {
     "data": {
      "image/png": "[encoded data removed]",
      "text/plain": [
       "<Figure size 576x288 with 1 Axes>"
      ]
     },
     "metadata": {
      "needs_background": "light"
     },
     "output_type": "display_data"
    }
   ],
   "source": [
    "# 1. Cohort-level risk summary\n",
    "# ------------------------------\n",
    "cohort_summary = df_work.groupby(\"department\")[\"risk_score\"].mean().sort_values(ascending=False)\n",
    "print(\"Average Risk Score by Department:\")\n",
    "print(cohort_summary)\n",
    "\n",
    "plt.figure(figsize=(8,4))\n",
    "sns.barplot(\n",
    "    x=cohort_summary.index,\n",
    "    y=cohort_summary.values,\n",
    "    hue=cohort_summary.index,   # tell seaborn to color by department\n",
    "    palette=\"Reds_r\",\n",
    "    legend=False                # hide redundant legend\n",
    ")\n",
    "\n",
    "plt.xticks(rotation=45)\n",
    "plt.title(\"Average Risk Score by Department\")\n",
    "plt.ylabel(\"Average Risk Score\")\n",
    "plt.xlabel(\"Department\")\n",
    "plt.show()"
   ]
  },
  {
   "cell_type": "code",
   "execution_count": 55,
   "metadata": {},
   "outputs": [
    {
     "data": {
      "image/png": "[encoded data removed]",
      "text/plain": [
       "<Figure size 720x432 with 2 Axes>"
      ]
     },
     "metadata": {
      "needs_background": "light"
     },
     "output_type": "display_data"
    }
   ],
   "source": [
    "# 2. Heatmap for multi-factor risk (education vs tenure)\n",
    "# ------------------------------\n",
    "heatmap_data = df_work.pivot_table(\n",
    "    index=\"education\",\n",
    "    columns=\"length_of_service\",\n",
    "    values=\"risk_score\",\n",
    "    aggfunc=\"mean\"\n",
    ")\n",
    "\n",
    "plt.figure(figsize=(10,6))\n",
    "sns.heatmap(heatmap_data, cmap=\"Reds\", annot=True, fmt=\".2f\")\n",
    "plt.title(\"Risk Score by Education Level and Tenure\")\n",
    "plt.ylabel(\"Education Level\")\n",
    "plt.xlabel(\"Length of Service (Years)\")\n",
    "plt.show()"
   ]
  },
  {
   "cell_type": "code",
   "execution_count": 56,
   "metadata": {},
   "outputs": [
    {
     "name": "stdout",
     "output_type": "stream",
     "text": [
      "\n",
      "Key HR Takeaways:\n",
      "⚠ Employees with low training scores (<60) are at higher risk.\n",
      "⚠ Employees with tenure under 3 years show higher likelihood of leaving.\n",
      "⚠ Employees without recognition (awards) are less engaged and more likely to leave.\n"
     ]
    }
   ],
   "source": [
    "# 3. Human-readable rule extraction\n",
    "rules = []\n",
    "\n",
    "if (df_work[\"avg_training_score\"] < 60).mean() > 0.3:\n",
    "    rules.append(\"⚠ Employees with low training scores (<60) are at higher risk.\")\n",
    "\n",
    "if (df_work[\"length_of_service\"] < 3).mean() > 0.2:\n",
    "    rules.append(\"⚠ Employees with tenure under 3 years show higher likelihood of leaving.\")\n",
    "\n",
    "if (df_work[\"awards_won\"] == 0).mean() > 0.5:\n",
    "    rules.append(\"⚠ Employees without recognition (awards) are less engaged and more likely to leave.\")\n",
    "\n",
    "print(\"\\nKey HR Takeaways:\")\n",
    "for r in rules:\n",
    "    print(r)"
   ]
  }
 ],
 "metadata": {
  "kernelspec": {
   "display_name": "Python 3",
   "language": "python",
   "name": "python3"
  },
  "language_info": {
   "codemirror_mode": {
    "name": "ipython",
    "version": 3
   },
   "file_extension": ".py",
   "mimetype": "text/x-python",
   "name": "python",
   "nbconvert_exporter": "python",
   "pygments_lexer": "ipython3",
   "version": "3.8.3"
  }
 },
 "nbformat": 4,
 "nbformat_minor": 4
}
